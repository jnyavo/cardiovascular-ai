{
 "cells": [
  {
   "cell_type": "markdown",
   "metadata": {},
   "source": [
    "# ECG_FM"
   ]
  },
  {
   "cell_type": "code",
   "execution_count": 1,
   "metadata": {},
   "outputs": [],
   "source": [
    "from data import ptbxl\n",
    "import os\n",
    "from model.huggingface.utils import download_model\n",
    "from fairseq_signals import models, tasks\n",
    "from fairseq_signals.utils import checkpoint_utils\n",
    "import torch\n",
    "import numpy as np\n",
    "from utils import setCWDToProjectDir"
   ]
  },
  {
   "cell_type": "code",
   "execution_count": 2,
   "metadata": {},
   "outputs": [
    {
     "name": "stdout",
     "output_type": "stream",
     "text": [
      "Our current working directory is D:\\cardiovascular-ai\n"
     ]
    }
   ],
   "source": [
    "setCWDToProjectDir()\n",
    "print(f\"Our current working directory is {os.getcwd()}\")"
   ]
  },
  {
   "cell_type": "code",
   "execution_count": 3,
   "metadata": {},
   "outputs": [],
   "source": [
    "pt, yml = download_model('wanglab/ecg-fm-preprint')"
   ]
  },
  {
   "cell_type": "code",
   "execution_count": 5,
   "metadata": {},
   "outputs": [
    {
     "name": "stdout",
     "output_type": "stream",
     "text": [
      "ECG signal shape: (5000, 12)\n",
      "ECG tensor shape before repeat: torch.Size([1, 2500, 12])\n",
      "Logits: tensor([[ -8.4053, -12.6755, -26.7521, -28.0138, -12.1268, -14.4197, -11.4347,\n",
      "         -12.1979,  -1.2968, -10.6023, -17.8656,   3.5591,  -9.6794,  -3.4919,\n",
      "           5.2512,  -3.2053, -10.8229, -20.2688, -13.5364,  -7.0771, -22.4763,\n",
      "          -5.7198,  -7.8527,  -9.2080,  -2.5858,  -6.1212]])\n",
      "Probabilities: tensor([[9.8818e-07, 1.3814e-08, 1.0640e-14, 3.0129e-15, 2.3912e-08, 2.4144e-09,\n",
      "         4.7774e-08, 2.2270e-08, 1.2079e-03, 1.0982e-07, 7.6964e-11, 1.5521e-01,\n",
      "         2.7637e-07, 1.3449e-04, 8.4291e-01, 1.7913e-04, 8.8087e-08, 6.9594e-12,\n",
      "         5.8403e-09, 3.7295e-06, 7.6538e-13, 1.4492e-05, 1.7172e-06, 4.4284e-07,\n",
      "         3.3284e-04, 9.7010e-06]])\n",
      "Predicted class index: 14\n",
      "Confidence score: 0.8429063558578491\n"
     ]
    }
   ],
   "source": [
    "# Load the model\n",
    "model = models.build_model_from_checkpoint(checkpoint_path=pt)\n",
    "\n",
    "# Load the model state\n",
    "model.eval()\n",
    "\n",
    "dataset = ptbxl.PTBXL(sampling_rate=ptbxl.SamplingRate.HZ_500)\n",
    "\n",
    "record = dataset.load_record(1)\n",
    "\n",
    "ecg_signal = record.data\n",
    "\n",
    "print(\"ECG signal shape:\", ecg_signal.shape )\n",
    "\n",
    "if len(ecg_signal) < 2500:\n",
    "    raise ValueError(\"ECG record is shorter than 5 seconds.\")\n",
    "\n",
    "# Extract a 5-second segment (2500 samples at 500 Hz)\n",
    "segment = ecg_signal[:2500]\n",
    "\n",
    "# Normalize the segment\n",
    "ecg_tensor = torch.tensor(segment, dtype=torch.float32).unsqueeze(0)\n",
    "\n",
    "print(\"ECG tensor shape before repeat:\", ecg_tensor.shape)\n",
    "\n",
    "ecg_tensor = ecg_tensor.transpose(1,2)\n",
    "\n",
    "# Run inference with the model\n",
    "with torch.no_grad():\n",
    "    output = model(source=ecg_tensor)  # Output shape: [1, 26]\n",
    "    logits = output[\"out\"]      # extract the logits tensor (check your model's output keys)\n",
    "    \n",
    "    probabilities = torch.softmax(logits, dim=-1)\n",
    "    predicted_class = torch.argmax(probabilities, dim=-1)\n",
    "\n",
    "print(\"Logits:\", logits)\n",
    "print(\"Probabilities:\", probabilities)\n",
    "predicted_class_idx = predicted_class.item()\n",
    "\n",
    "print(\"Predicted class index:\", predicted_class.item())\n",
    "print(\"Confidence score:\", probabilities[0][predicted_class_idx].item())\n",
    "\n",
    "\n",
    "\n"
   ]
  }
 ],
 "metadata": {
  "kernelspec": {
   "display_name": ".venv",
   "language": "python",
   "name": "python3"
  },
  "language_info": {
   "codemirror_mode": {
    "name": "ipython",
    "version": 3
   },
   "file_extension": ".py",
   "mimetype": "text/x-python",
   "name": "python",
   "nbconvert_exporter": "python",
   "pygments_lexer": "ipython3",
   "version": "3.10.11"
  }
 },
 "nbformat": 4,
 "nbformat_minor": 2
}
