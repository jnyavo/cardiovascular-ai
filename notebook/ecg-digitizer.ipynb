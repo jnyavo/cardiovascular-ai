{
 "cells": [
  {
   "cell_type": "code",
   "execution_count": 1,
   "metadata": {},
   "outputs": [
    {
     "name": "stdout",
     "output_type": "stream",
     "text": [
      "nnUNet_raw is not defined and nnU-Net can only be used on data for which preprocessed files are already present on your system. nnU-Net cannot be used for experiment planning and preprocessing like this. If this is not intended, please read documentation/setting_up_paths.md for information on how to set this up properly.\n",
      "nnUNet_preprocessed is not defined and nnU-Net can not be used for preprocessing or training. If this is not intended, please read documentation/setting_up_paths.md for information on how to set this up.\n",
      "nnUNet_results is not defined and nnU-Net cannot be used for training or inference. If this is not intended behavior, please read documentation/setting_up_paths.md for information on how to set this up.\n"
     ]
    }
   ],
   "source": [
    "from nnunetv2.inference.predict_from_raw_data import nnUNetPredictor\n",
    "from torchvision.io.image import read_image, write_png\n",
    "import torchvision.transforms.functional as F\n",
    "from pathlib import Path\n",
    "from utils import setCWDToProjectDir\n",
    "import torch\n",
    "import os"
   ]
  },
  {
   "cell_type": "code",
   "execution_count": 3,
   "metadata": {},
   "outputs": [
    {
     "name": "stdout",
     "output_type": "stream",
     "text": [
      "Using device: cuda\n"
     ]
    }
   ],
   "source": [
    "device = torch.device('cuda' if torch.cuda.is_available() else 'cpu')\n",
    "print(f\"Using device: {device}\")\n",
    "setCWDToProjectDir()"
   ]
  },
  {
   "cell_type": "code",
   "execution_count": 4,
   "metadata": {},
   "outputs": [
    {
     "name": "stdout",
     "output_type": "stream",
     "text": [
      "Predicting on tmp_prediction\\input.png and saving to tmp_prediction\n",
      "There are 1 cases in the source folder\n",
      "I am process 0 out of 1 (max process ID is 0, we start counting with 0!)\n",
      "There are 1 cases that I would like to predict\n",
      "\n",
      "Predicting image of shape torch.Size([1, 3, 704, 1241]):\n",
      "perform_everything_on_device: True\n",
      "Input shape: torch.Size([1, 3, 704, 1241])\n",
      "step_size: 0.5\n",
      "mirror_axes: (0, 1)\n",
      "n_steps 3, image size is torch.Size([3, 1024, 1280]), tile_size [1024, 1280], tile_step_size 0.5\n",
      "steps:\n",
      "[[0], [0]]\n",
      "move image to device cuda\n",
      "preallocating results arrays on device cuda\n"
     ]
    },
    {
     "name": "stderr",
     "output_type": "stream",
     "text": [
      "100%|██████████| 3/3 [00:07<00:00,  2.47s/it]\n"
     ]
    },
    {
     "name": "stdout",
     "output_type": "stream",
     "text": [
      "Prediction done\n",
      "sending off prediction to background worker for resampling\n",
      "\n",
      "Done with image of shape torch.Size([1, 3, 704, 1241]):\n",
      "Prediction shape: (3, 704, 1241)\n"
     ]
    }
   ],
   "source": [
    "model_folder = \"ECG-Digitiser/models/M3\"\n",
    "dataset_name = \"Dataset500_Signals\"\n",
    "\n",
    "predictor = nnUNetPredictor(\n",
    "        tile_step_size=0.5,\n",
    "        use_gaussian=True,\n",
    "        use_mirroring=True,\n",
    "        perform_everything_on_device=True,\n",
    "        device=device,\n",
    "        verbose=True\n",
    "    )\n",
    "\n",
    "predictor.initialize_from_trained_model_folder(\n",
    "        os.path.join(os.getcwd(),model_folder, \"nnUNet_results\", dataset_name, \"nnUNetTrainer__nnUNetPlans__2d\"),\n",
    "        use_folds=['all'],\n",
    "        checkpoint_name=\"checkpoint_final.pth\",\n",
    "    )\n",
    "image_path = \"ecg_example2.png\"\n",
    "image = read_image(image_path)\n",
    "image = image[:3].to(torch.uint8)\n",
    "tmp_dir = Path(\"tmp_prediction\")\n",
    "tmp_dir.mkdir(exist_ok=True)\n",
    "tmp_image_path = tmp_dir / \"input.png\"\n",
    "write_png(image, str(tmp_image_path))\n",
    "\n",
    "print(f\"Predicting on {tmp_image_path} and saving to {tmp_dir}\")\n",
    "prediction = predictor.predict_from_files(\n",
    "        [[str(tmp_image_path)]],\n",
    "        None,\n",
    "        save_probabilities=False,\n",
    "        overwrite=True,\n",
    "        num_processes_preprocessing=1,  # Reduce to 1 process\n",
    "        num_processes_segmentation_export=1  # Reduce to 1 proces\n",
    "    )\n",
    "\n",
    "print(f\"Prediction shape: {prediction[0].shape}\")\n",
    "\n",
    "# Read result back"
   ]
  }
 ],
 "metadata": {
  "kernelspec": {
   "display_name": ".venv",
   "language": "python",
   "name": "python3"
  },
  "language_info": {
   "codemirror_mode": {
    "name": "ipython",
    "version": 3
   },
   "file_extension": ".py",
   "mimetype": "text/x-python",
   "name": "python",
   "nbconvert_exporter": "python",
   "pygments_lexer": "ipython3",
   "version": "3.10.11"
  }
 },
 "nbformat": 4,
 "nbformat_minor": 2
}
