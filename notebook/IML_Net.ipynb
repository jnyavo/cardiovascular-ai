{
 "cells": [
  {
   "cell_type": "markdown",
   "metadata": {},
   "source": [
    "# IML NET"
   ]
  },
  {
   "cell_type": "code",
   "execution_count": 1,
   "metadata": {},
   "outputs": [],
   "source": [
    "from model import IMLE_net\n",
    "from model.IMLE_net.inference import build_scores, transform_ecg_for_inference\n",
    "import os\n",
    "import numpy as np\n",
    "from data import ptbxl\n",
    "from utils import setCWDToProjectDir\n",
    "from model.IMLE_net.preprocessing.preprocess import preprocess\n",
    "import tensorflow as tf"
   ]
  },
  {
   "cell_type": "code",
   "execution_count": null,
   "metadata": {},
   "outputs": [],
   "source": [
    "# See if GPU is available\n",
    "print(tf.config.list_physical_devices('GPU'))"
   ]
  },
  {
   "cell_type": "code",
   "execution_count": 2,
   "metadata": {},
   "outputs": [
    {
     "name": "stdout",
     "output_type": "stream",
     "text": [
      "Our current working directory is D:\\cardiovascular-ai\n"
     ]
    }
   ],
   "source": [
    "setCWDToProjectDir()\n",
    "print(f\"Our current working directory is {os.getcwd()}\")"
   ]
  },
  {
   "cell_type": "markdown",
   "metadata": {},
   "source": [
    "## Author's model and weight"
   ]
  },
  {
   "cell_type": "code",
   "execution_count": null,
   "metadata": {},
   "outputs": [],
   "source": [
    "\n",
    "\n",
    "dataset = ptbxl.PTBXL(sampling_rate=ptbxl.SamplingRate.HZ_100)\n",
    "record = dataset.load_record(1)\n",
    "weight_path = os.path.join(os.getcwd(), 'ckpts', 'imle_net_weights.h5')\n",
    "\n",
    "config = IMLE_net.Config()\n",
    "\n",
    "# Set the configuration parameters for the Author's model (imle_net_weights)\n",
    "config.attention_dim = 32\n",
    "config.lstm_units = 32\n",
    "config.start_filters = 16\n",
    "\n",
    "#Print all config values\n",
    "print(\"Model configuration:\")\n",
    "for key, value in config.__dict__.items():\n",
    "    print(f\"\\t {key}: {value}\")\n",
    "print(\"\")\n",
    "model_author = IMLE_net.build_imle_net(config)\n",
    "model_author.load_weights(weight_path)\n",
    "\n",
    "data = record.data\n",
    "data = np.expand_dims(data, axis=0)\n",
    "data = transform_ecg_for_inference(data)\n",
    "print(\"Data shape after transformation:\", data.shape)\n",
    "build_scores(model_author, data, config)\n",
    "\n",
    "\n",
    "\n"
   ]
  },
  {
   "cell_type": "markdown",
   "metadata": {},
   "source": [
    "## Community model and weight"
   ]
  },
  {
   "cell_type": "code",
   "execution_count": null,
   "metadata": {},
   "outputs": [],
   "source": [
    "\n",
    "\n",
    "dataset = ptbxl.PTBXL(sampling_rate=ptbxl.SamplingRate.HZ_100)\n",
    "record = dataset.load_record(1)\n",
    "weight_path = os.path.join(os.getcwd(), 'ckpts', 'imle_net_community_weights.h5')\n",
    "\n",
    "config = IMLE_net.Config()\n",
    "\n",
    "#Print all config values\n",
    "print(\"Model configuration:\")\n",
    "for key, value in config.__dict__.items():\n",
    "    print(f\"\\t {key}: {value}\")\n",
    "print(\"\")\n",
    "model = IMLE_net.build_imle_net(config)\n",
    "model.load_weights(weight_path)\n",
    "\n",
    "data = record.data\n",
    "data = np.expand_dims(data, axis=0)\n",
    "data = transform_ecg_for_inference(data)\n",
    "print(\"Data shape after transformation:\", data.shape)\n",
    "build_scores(model, data, config)\n",
    "\n",
    "\n",
    "\n"
   ]
  },
  {
   "cell_type": "code",
   "execution_count": null,
   "metadata": {},
   "outputs": [],
   "source": [
    "predictions = model_author.predict(data)\n",
    "print(\"Predictions shape: \", predictions.shape)\n",
    "# Print predicted class\n",
    "predicted_class = np.argmax(predictions, axis=1)\n",
    "print(\"Prediction: \", predicted_class[0])\n",
    "\n",
    "#print probabilities\n",
    "print(\"Probabilities: \", predictions[0])\n"
   ]
  },
  {
   "cell_type": "code",
   "execution_count": null,
   "metadata": {},
   "outputs": [],
   "source": [
    "preprocessed_file_path = f\"preprocessed_data/ptbxl_{dataset.sampling_rate}.npz\"\n",
    "\n",
    "if not os.path.exists(preprocessed_file_path):\n",
    "  X, y, data, classes = dataset.load_all()\n",
    "  \n",
    "  #Print classes\n",
    "  print(\"Classes: \", classes)\n",
    "\n",
    "  #preprocess\n",
    "  X_train_scale, y_train, X_test_scale, y_test, X_val_scale, y_val = preprocess(X, y, data)\n",
    "\n",
    "  print(\"X_train_scale shape: \", X_train_scale.shape)\n",
    "  print(\"y_train shape: \", y_train.shape)\n",
    "  print(\"X_test_scale shape: \", X_test_scale.shape)\n",
    "  print(\"y_test shape: \", y_test.shape)\n",
    "  print(\"X_val_scale shape: \", X_val_scale.shape)\n",
    "  print(\"y_val shape: \", y_val.shape)\n",
    "\n",
    "  # Save the preprocessed data\n",
    "  \n",
    "  # Create the directory if it doesn't exist\n",
    "  os.makedirs(os.path.dirname(preprocessed_file_path), exist_ok=True)\n",
    "\n",
    "  # Save the preprocessed data to a compressed .npz file\n",
    "  np.savez_compressed(preprocessed_file_path, X_train_scale=X_train_scale, y_train=y_train, \\\n",
    "              X_test_scale=X_test_scale, y_test=y_test, X_val_scale=X_val_scale, y_val=y_val,\\\n",
    "              classes=classes)\n",
    "else:\n",
    "  print(f\"Preprocessed data already exists at {preprocessed_file_path}. Loading it...\")\n",
    "\n",
    "# Load the preprocessed data\n",
    "data = np.load(preprocessed_file_path, allow_pickle=True)\n",
    "X_train_scale = data['X_train_scale']\n",
    "y_train = data['y_train']\n",
    "X_test_scale = data['X_test_scale']\n",
    "y_test = data['y_test']\n",
    "X_val_scale = data['X_val_scale']\n",
    "y_val = data['y_val']\n",
    "\n",
    "classes = data['classes']\n",
    "print(\"Loaded classes: \", classes)"
   ]
  },
  {
   "cell_type": "code",
   "execution_count": null,
   "metadata": {},
   "outputs": [],
   "source": [
    "X_test = transform_ecg_for_inference(X_test_scale, scaler_path=None)\n",
    "community_predictions = model.predict(X_test)\n",
    "author_predictions = model_author.predict(X_test)"
   ]
  },
  {
   "cell_type": "code",
   "execution_count": null,
   "metadata": {},
   "outputs": [],
   "source": [
    "from utils.display import display_confusion_matrix\n",
    "from utils.evaluation import evaluate_classification\n",
    "\n",
    "print(\"Shape of community predictions: \", community_predictions.shape)\n",
    "\n",
    "evaluate_classification(community_predictions, X_test, y_test, classes)"
   ]
  },
  {
   "cell_type": "markdown",
   "metadata": {},
   "source": []
  },
  {
   "cell_type": "code",
   "execution_count": null,
   "metadata": {},
   "outputs": [],
   "source": [
    "evaluate_classification(author_predictions, X_test, y_test)"
   ]
  },
  {
   "cell_type": "code",
   "execution_count": null,
   "metadata": {},
   "outputs": [
    {
     "name": "stdout",
     "output_type": "stream",
     "text": [
      "Loading dataset using multiple threads...\n",
      "\n"
     ]
    },
    {
     "ename": "AttributeError",
     "evalue": "Can't pickle local object 'PTBXL._load_raw_data_mp.<locals>.read_file'",
     "output_type": "error",
     "traceback": [
      "\u001b[1;31m---------------------------------------------------------------------------\u001b[0m",
      "\u001b[1;31mAttributeError\u001b[0m                            Traceback (most recent call last)",
      "Cell \u001b[1;32mIn[3], line 2\u001b[0m\n\u001b[0;32m      1\u001b[0m dataset \u001b[38;5;241m=\u001b[39m ptbxl\u001b[38;5;241m.\u001b[39mPTBXL(sampling_rate\u001b[38;5;241m=\u001b[39mptbxl\u001b[38;5;241m.\u001b[39mSamplingRate\u001b[38;5;241m.\u001b[39mHZ_100, multi_threaded\u001b[38;5;241m=\u001b[39m\u001b[38;5;28;01mTrue\u001b[39;00m)\n\u001b[1;32m----> 2\u001b[0m X, y, data, classes \u001b[38;5;241m=\u001b[39m \u001b[43mdataset\u001b[49m\u001b[38;5;241;43m.\u001b[39;49m\u001b[43mload_all\u001b[49m\u001b[43m(\u001b[49m\u001b[43m)\u001b[49m\n\u001b[0;32m      3\u001b[0m X_test \u001b[38;5;241m=\u001b[39m transform_ecg_for_inference(X)\n\u001b[0;32m      4\u001b[0m \u001b[38;5;66;03m# author_predictions = model_author.predict(X_test)\u001b[39;00m\n\u001b[0;32m      5\u001b[0m \u001b[38;5;66;03m# community_predictions = model.predict(X_test)\u001b[39;00m\n\u001b[0;32m      6\u001b[0m \u001b[38;5;66;03m# print(\"Shape of community predictions: \", community_predictions.shape)\u001b[39;00m\n\u001b[0;32m      7\u001b[0m \u001b[38;5;66;03m# evaluate_classification(community_predictions, X_test, y, classes=classes)\u001b[39;00m\n\u001b[0;32m      8\u001b[0m \u001b[38;5;66;03m# evaluate_classification(author_predictions, X_test, y, classes=classes)\u001b[39;00m\n",
      "File \u001b[1;32mD:\\cardiovascular-ai\\src\\data\\ptbxl\\loader.py:158\u001b[0m, in \u001b[0;36mPTBXL.load_all\u001b[1;34m(self)\u001b[0m\n\u001b[0;32m    145\u001b[0m \u001b[38;5;250m\u001b[39m\u001b[38;5;124;03m\"\"\"\u001b[39;00m\n\u001b[0;32m    146\u001b[0m \u001b[38;5;124;03mLoad all ECG records listed in the metadata CSV.\u001b[39;00m\n\u001b[0;32m    147\u001b[0m \n\u001b[1;32m   (...)\u001b[0m\n\u001b[0;32m    154\u001b[0m \u001b[38;5;124;03mNote: Loading all records may be time consuming and memory intensive.\u001b[39;00m\n\u001b[0;32m    155\u001b[0m \u001b[38;5;124;03m\"\"\"\u001b[39;00m\n\u001b[0;32m    157\u001b[0m metadata \u001b[38;5;241m=\u001b[39m \u001b[38;5;28mself\u001b[39m\u001b[38;5;241m.\u001b[39mmetadata\n\u001b[1;32m--> 158\u001b[0m data \u001b[38;5;241m=\u001b[39m \u001b[38;5;28;43mself\u001b[39;49m\u001b[38;5;241;43m.\u001b[39;49m\u001b[43m_load_raw_data_mp\u001b[49m\u001b[43m(\u001b[49m\u001b[43m)\u001b[49m \u001b[38;5;28;01mif\u001b[39;00m \u001b[38;5;28mself\u001b[39m\u001b[38;5;241m.\u001b[39mmulti_threaded \u001b[38;5;28;01melse\u001b[39;00m \u001b[38;5;28mself\u001b[39m\u001b[38;5;241m.\u001b[39m_load_raw_data()\n\u001b[0;32m    160\u001b[0m \u001b[38;5;66;03m# Filter metadata for records with at least one diagnostic superclass\u001b[39;00m\n\u001b[0;32m    161\u001b[0m X_data \u001b[38;5;241m=\u001b[39m data[metadata[\u001b[38;5;124m\"\u001b[39m\u001b[38;5;124msuperdiagnostic_len\u001b[39m\u001b[38;5;124m\"\u001b[39m] \u001b[38;5;241m>\u001b[39m\u001b[38;5;241m=\u001b[39m \u001b[38;5;241m1\u001b[39m]\n",
      "File \u001b[1;32mD:\\cardiovascular-ai\\src\\data\\ptbxl\\loader.py:118\u001b[0m, in \u001b[0;36mPTBXL._load_raw_data_mp\u001b[1;34m(self)\u001b[0m\n\u001b[0;32m    116\u001b[0m \u001b[38;5;66;03m# Use all available cores\u001b[39;00m\n\u001b[0;32m    117\u001b[0m \u001b[38;5;28;01mwith\u001b[39;00m mp\u001b[38;5;241m.\u001b[39mPool() \u001b[38;5;28;01mas\u001b[39;00m pool:\n\u001b[1;32m--> 118\u001b[0m     results \u001b[38;5;241m=\u001b[39m \u001b[43mpool\u001b[49m\u001b[38;5;241;43m.\u001b[39;49m\u001b[43mmap\u001b[49m\u001b[43m(\u001b[49m\u001b[43mread_with_path\u001b[49m\u001b[43m,\u001b[49m\u001b[43m \u001b[49m\u001b[43mdf\u001b[49m\u001b[43m[\u001b[49m\u001b[43mfile_pattern\u001b[49m\u001b[43m]\u001b[49m\u001b[43m)\u001b[49m\n\u001b[0;32m    119\u001b[0m \u001b[38;5;28;01mreturn\u001b[39;00m np\u001b[38;5;241m.\u001b[39marray(results)\n",
      "File \u001b[1;32m~\\AppData\\Local\\Programs\\Python\\Python310\\lib\\multiprocessing\\pool.py:367\u001b[0m, in \u001b[0;36mPool.map\u001b[1;34m(self, func, iterable, chunksize)\u001b[0m\n\u001b[0;32m    362\u001b[0m \u001b[38;5;28;01mdef\u001b[39;00m\u001b[38;5;250m \u001b[39m\u001b[38;5;21mmap\u001b[39m(\u001b[38;5;28mself\u001b[39m, func, iterable, chunksize\u001b[38;5;241m=\u001b[39m\u001b[38;5;28;01mNone\u001b[39;00m):\n\u001b[0;32m    363\u001b[0m \u001b[38;5;250m    \u001b[39m\u001b[38;5;124;03m'''\u001b[39;00m\n\u001b[0;32m    364\u001b[0m \u001b[38;5;124;03m    Apply `func` to each element in `iterable`, collecting the results\u001b[39;00m\n\u001b[0;32m    365\u001b[0m \u001b[38;5;124;03m    in a list that is returned.\u001b[39;00m\n\u001b[0;32m    366\u001b[0m \u001b[38;5;124;03m    '''\u001b[39;00m\n\u001b[1;32m--> 367\u001b[0m     \u001b[38;5;28;01mreturn\u001b[39;00m \u001b[38;5;28;43mself\u001b[39;49m\u001b[38;5;241;43m.\u001b[39;49m\u001b[43m_map_async\u001b[49m\u001b[43m(\u001b[49m\u001b[43mfunc\u001b[49m\u001b[43m,\u001b[49m\u001b[43m \u001b[49m\u001b[43miterable\u001b[49m\u001b[43m,\u001b[49m\u001b[43m \u001b[49m\u001b[43mmapstar\u001b[49m\u001b[43m,\u001b[49m\u001b[43m \u001b[49m\u001b[43mchunksize\u001b[49m\u001b[43m)\u001b[49m\u001b[38;5;241;43m.\u001b[39;49m\u001b[43mget\u001b[49m\u001b[43m(\u001b[49m\u001b[43m)\u001b[49m\n",
      "File \u001b[1;32m~\\AppData\\Local\\Programs\\Python\\Python310\\lib\\multiprocessing\\pool.py:774\u001b[0m, in \u001b[0;36mApplyResult.get\u001b[1;34m(self, timeout)\u001b[0m\n\u001b[0;32m    772\u001b[0m     \u001b[38;5;28;01mreturn\u001b[39;00m \u001b[38;5;28mself\u001b[39m\u001b[38;5;241m.\u001b[39m_value\n\u001b[0;32m    773\u001b[0m \u001b[38;5;28;01melse\u001b[39;00m:\n\u001b[1;32m--> 774\u001b[0m     \u001b[38;5;28;01mraise\u001b[39;00m \u001b[38;5;28mself\u001b[39m\u001b[38;5;241m.\u001b[39m_value\n",
      "File \u001b[1;32m~\\AppData\\Local\\Programs\\Python\\Python310\\lib\\multiprocessing\\pool.py:540\u001b[0m, in \u001b[0;36mPool._handle_tasks\u001b[1;34m(taskqueue, put, outqueue, pool, cache)\u001b[0m\n\u001b[0;32m    538\u001b[0m     \u001b[38;5;28;01mbreak\u001b[39;00m\n\u001b[0;32m    539\u001b[0m \u001b[38;5;28;01mtry\u001b[39;00m:\n\u001b[1;32m--> 540\u001b[0m     \u001b[43mput\u001b[49m\u001b[43m(\u001b[49m\u001b[43mtask\u001b[49m\u001b[43m)\u001b[49m\n\u001b[0;32m    541\u001b[0m \u001b[38;5;28;01mexcept\u001b[39;00m \u001b[38;5;167;01mException\u001b[39;00m \u001b[38;5;28;01mas\u001b[39;00m e:\n\u001b[0;32m    542\u001b[0m     job, idx \u001b[38;5;241m=\u001b[39m task[:\u001b[38;5;241m2\u001b[39m]\n",
      "File \u001b[1;32m~\\AppData\\Local\\Programs\\Python\\Python310\\lib\\multiprocessing\\connection.py:206\u001b[0m, in \u001b[0;36m_ConnectionBase.send\u001b[1;34m(self, obj)\u001b[0m\n\u001b[0;32m    204\u001b[0m \u001b[38;5;28mself\u001b[39m\u001b[38;5;241m.\u001b[39m_check_closed()\n\u001b[0;32m    205\u001b[0m \u001b[38;5;28mself\u001b[39m\u001b[38;5;241m.\u001b[39m_check_writable()\n\u001b[1;32m--> 206\u001b[0m \u001b[38;5;28mself\u001b[39m\u001b[38;5;241m.\u001b[39m_send_bytes(\u001b[43m_ForkingPickler\u001b[49m\u001b[38;5;241;43m.\u001b[39;49m\u001b[43mdumps\u001b[49m\u001b[43m(\u001b[49m\u001b[43mobj\u001b[49m\u001b[43m)\u001b[49m)\n",
      "File \u001b[1;32m~\\AppData\\Local\\Programs\\Python\\Python310\\lib\\multiprocessing\\reduction.py:51\u001b[0m, in \u001b[0;36mForkingPickler.dumps\u001b[1;34m(cls, obj, protocol)\u001b[0m\n\u001b[0;32m     48\u001b[0m \u001b[38;5;129m@classmethod\u001b[39m\n\u001b[0;32m     49\u001b[0m \u001b[38;5;28;01mdef\u001b[39;00m\u001b[38;5;250m \u001b[39m\u001b[38;5;21mdumps\u001b[39m(\u001b[38;5;28mcls\u001b[39m, obj, protocol\u001b[38;5;241m=\u001b[39m\u001b[38;5;28;01mNone\u001b[39;00m):\n\u001b[0;32m     50\u001b[0m     buf \u001b[38;5;241m=\u001b[39m io\u001b[38;5;241m.\u001b[39mBytesIO()\n\u001b[1;32m---> 51\u001b[0m     \u001b[38;5;28;43mcls\u001b[39;49m\u001b[43m(\u001b[49m\u001b[43mbuf\u001b[49m\u001b[43m,\u001b[49m\u001b[43m \u001b[49m\u001b[43mprotocol\u001b[49m\u001b[43m)\u001b[49m\u001b[38;5;241;43m.\u001b[39;49m\u001b[43mdump\u001b[49m\u001b[43m(\u001b[49m\u001b[43mobj\u001b[49m\u001b[43m)\u001b[49m\n\u001b[0;32m     52\u001b[0m     \u001b[38;5;28;01mreturn\u001b[39;00m buf\u001b[38;5;241m.\u001b[39mgetbuffer()\n",
      "\u001b[1;31mAttributeError\u001b[0m: Can't pickle local object 'PTBXL._load_raw_data_mp.<locals>.read_file'"
     ]
    }
   ],
   "source": [
    "dataset = ptbxl.PTBXL(sampling_rate=ptbxl.SamplingRate.HZ_100)\n",
    "X, y, data, classes = dataset.load_all()\n",
    "X_test = transform_ecg_for_inference(X)\n",
    "# author_predictions = model_author.predict(X_test)\n",
    "# community_predictions = model.predict(X_test)\n",
    "# print(\"Shape of community predictions: \", community_predictions.shape)\n",
    "# evaluate_classification(community_predictions, X_test, y, classes=classes)\n",
    "# evaluate_classification(author_predictions, X_test, y, classes=classes)"
   ]
  }
 ],
 "metadata": {
  "kernelspec": {
   "display_name": ".venv",
   "language": "python",
   "name": "python3"
  },
  "language_info": {
   "codemirror_mode": {
    "name": "ipython",
    "version": 3
   },
   "file_extension": ".py",
   "mimetype": "text/x-python",
   "name": "python",
   "nbconvert_exporter": "python",
   "pygments_lexer": "ipython3",
   "version": "3.10.11"
  }
 },
 "nbformat": 4,
 "nbformat_minor": 2
}
