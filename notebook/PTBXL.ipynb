{
 "cells": [
  {
   "cell_type": "markdown",
   "metadata": {},
   "source": [
    "# PTBX Load and visualization"
   ]
  },
  {
   "cell_type": "code",
   "execution_count": null,
   "metadata": {},
   "outputs": [],
   "source": [
    "from data import ptbxl\n",
    "import os\n",
    "from utils import setCWDToProjectDir\n",
    "from model.IMLE_net.preprocessing.preprocess import preprocess\n"
   ]
  },
  {
   "cell_type": "code",
   "execution_count": null,
   "metadata": {},
   "outputs": [],
   "source": [
    "setCWDToProjectDir()\n",
    "print(f\"Our current working directory is {os.getcwd()}\")"
   ]
  },
  {
   "cell_type": "code",
   "execution_count": null,
   "metadata": {},
   "outputs": [],
   "source": [
    "\n",
    "dataset = ptbxl.PTBXL(sampling_rate=ptbxl.SamplingRate.HZ_500)\n",
    "record = dataset.load_record(1)\n",
    "record.draw_ecg(ptbxl.Lead.I)\n",
    "record.draw_ecg(ptbxl.Lead.V2)\n",
    "print(record.scp_codes)"
   ]
  },
  {
   "cell_type": "code",
   "execution_count": null,
   "metadata": {},
   "outputs": [],
   "source": [
    "import numpy as np\n",
    "\n",
    "preprocessed_file_path = f\"preprocessed_data/ptbxl_{dataset.sampling_rate}.npz\"\n",
    "\n",
    "if not os.path.exists(preprocessed_file_path):\n",
    "  X, y, data, classes = dataset.load_all()\n",
    "  \n",
    "  #Print classes\n",
    "  print(\"Classes: \", classes)\n",
    "\n",
    "  #preprocess\n",
    "  X_train_scale, y_train, X_test_scale, y_test, X_val_scale, y_val = preprocess(X, y, data)\n",
    "\n",
    "  print(\"X_train_scale shape: \", X_train_scale.shape)\n",
    "  print(\"y_train shape: \", y_train.shape)\n",
    "  print(\"X_test_scale shape: \", X_test_scale.shape)\n",
    "  print(\"y_test shape: \", y_test.shape)\n",
    "  print(\"X_val_scale shape: \", X_val_scale.shape)\n",
    "  print(\"y_val shape: \", y_val.shape)\n",
    "\n",
    "  # Save the preprocessed data\n",
    "  \n",
    "  # Create the directory if it doesn't exist\n",
    "  os.makedirs(os.path.dirname(preprocessed_file_path), exist_ok=True)\n",
    "\n",
    "  # Save the preprocessed data to a compressed .npz file\n",
    "  np.savez_compressed(preprocessed_file_path, X_train_scale=X_train_scale, y_train=y_train, \\\n",
    "              X_test_scale=X_test_scale, y_test=y_test, X_val_scale=X_val_scale, y_val=y_val,\\\n",
    "              classes=classes)\n",
    "else:\n",
    "  print(f\"Preprocessed data already exists at {preprocessed_file_path}. Loading it...\")\n",
    "\n",
    "# Load the preprocessed data\n",
    "data = np.load(preprocessed_file_path, allow_pickle=True)\n",
    "X_train_scale = data['X_train_scale']\n",
    "y_train = data['y_train']\n",
    "X_test_scale = data['X_test_scale']\n",
    "y_test = data['y_test']\n",
    "X_val_scale = data['X_val_scale']\n",
    "y_val = data['y_val']\n",
    "\n",
    "classes = data['classes']\n",
    "print(\"Loaded classes: \", classes)\n",
    "\n",
    "\n",
    "\n",
    "print(\"Preprocessed data saved and loaded successfully.\")\n",
    "\n",
    "\n",
    "\n",
    "\n"
   ]
  }
 ],
 "metadata": {
  "kernelspec": {
   "display_name": ".venv",
   "language": "python",
   "name": "python3"
  },
  "language_info": {
   "codemirror_mode": {
    "name": "ipython",
    "version": 3
   },
   "file_extension": ".py",
   "mimetype": "text/x-python",
   "name": "python",
   "nbconvert_exporter": "python",
   "pygments_lexer": "ipython3",
   "version": "3.10.11"
  }
 },
 "nbformat": 4,
 "nbformat_minor": 2
}
