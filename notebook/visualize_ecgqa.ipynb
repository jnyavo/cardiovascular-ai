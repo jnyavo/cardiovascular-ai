{
  "cells": [
    {
      "cell_type": "code",
      "execution_count": null,
      "metadata": {
        "colab": {
          "base_uri": "https://localhost:8080/"
        },
        "id": "mexF53PEM6V9",
        "outputId": "df2cc7e7-703a-4d64-f931-c473f7c3ef53"
      },
      "outputs": [],
      "source": [
        "#@title Setup\n",
        "\n",
        "import os\n",
        "import glob\n",
        "import json\n",
        "import random\n",
        "import shutil\n",
        "from pprint import pprint\n",
        "import matplotlib.pyplot as plt\n",
        "\n",
        "import numpy as np\n",
        "import wfdb\n",
        "\n",
        "lead_names = [\"I\", \"II\", \"III\", \"aVR\", \"aVL\", \"aVF\", \"V1\", \"V2\", \"V3\", \"V4\", \"V5\", \"V6\"]\n",
        "hz = 500\n",
        "start_time = 0\n",
        "time = 10\n",
        "start_length = int(start_time * hz)\n",
        "sample_length = int(time * hz)\n",
        "end_time = start_time + time\n",
        "t = np.arange(start_time, end_time, 1 / hz)\n",
        "\n",
        "def draw_ecg(ecg: np.ndarray, lead=1):\n",
        "    \"\"\"\n",
        "    Draws a single ECG lead\n",
        "    :param ecg: ECG data\n",
        "    :param lead: Lead number\n",
        "    :return: None\n",
        "    \"\"\"\n",
        "    plt.plot(\n",
        "        t,\n",
        "        ecg[lead][start_length: start_length + sample_length],\n",
        "        linewidth=2,\n",
        "        color=\"k\",\n",
        "        alpha=1.0,\n",
        "        label=lead_names[lead]\n",
        "    )\n",
        "    minimum = min(ecg[lead])\n",
        "    maximum = max(ecg[lead])\n",
        "    ylims_candidates = [-2.5, -2.0, -1.5, -1.0, -0.5, 0, 0.5, 1.0 , 1.5, 2.0, 2.5]\n",
        "\n",
        "    ylims = (\n",
        "        max([x for x in ylims_candidates if x <= minimum]),\n",
        "        min([x for x in ylims_candidates if x >= maximum]),\n",
        "    )\n",
        "    plt.vlines(np.arange(start_time, end_time, 0.2), ylims[0], ylims[1], colors=\"r\", alpha=1.0)\n",
        "    plt.vlines(np.arange(start_time, end_time, 0.04), ylims[0], ylims[1], colors=\"r\", alpha=0.3)\n",
        "    plt.hlines(np.arange(ylims[0], ylims[1], 0.5), start_time, end_time, colors=\"r\", alpha=1.0)\n",
        "    plt.hlines(np.arange(ylims[0], ylims[1], 0.1), start_time, end_time, colors=\"r\", alpha=0.3)\n",
        "\n",
        "    plt.xticks(np.arange(start_time, end_time + 1, 1.0))\n",
        "    plt.margins(0.0)\n",
        "    plt.show()\n",
        "\n",
        "def draw_ecgs(ecgs: list, lead=1):\n",
        "    \"\"\"\n",
        "    Draws multiple ECG leads\n",
        "    :param ecgs: ECG data\n",
        "    :param lead: Lead number\n",
        "    :return: None\n",
        "    \"\"\"\n",
        "    for i, ecg in enumerate(ecgs):\n",
        "        plt.rcParams[\"figure.figsize\"] = (25, 1.5 * len(ecgs))\n",
        "        plt.subplot(len(ecgs), 1, i + 1)\n",
        "        draw_ecg(ecg, lead)\n",
        "\n",
        "def visualize_sample(sample_data, lead):\n",
        "    ecgs = []\n",
        "    for i, ecg_path in enumerate(sample_data[\"ecg_path\"]):\n",
        "        if not os.path.exists(ecg_path + \".dat\"):\n",
        "            download_ptbxl(sample_data[\"ecg_id\"][i])\n",
        "\n",
        "        ecg, _ = wfdb.rdsamp(ecg_path)\n",
        "        ecgs.append(ecg.T)\n",
        "\n",
        "    draw_ecgs(ecgs, lead)\n",
        "    print(f\"Sample ID: {sample_data['sample_id']}\")\n",
        "    print(f\"Question: {sample_data['question']}\")\n",
        "    print(f\"Answer: {sample_data['answer']}\")\n",
        "\n",
        "def get_ptbxl_data_path(ecg_id):\n",
        "    return os.path.join(\n",
        "        f\"{int(ecg_id / 1000) * 1000 :05d}\",\n",
        "        f\"{ecg_id:05d}_hr\"\n",
        "    )\n",
        "\n",
        "def download_ptbxl(ecg_id):\n",
        "    ptbxl_data_path = get_ptbxl_data_path(ecg_id)\n",
        "    !wget -r -N -c np https://physionet.org/files/ptb-xl/1.0.3/records500/{ptbxl_data_path}.hea -P ptbxl &> /dev/null\n",
        "    shutil.move(\n",
        "        os.path.join(\"ptbxl\", f\"physionet.org/files/ptb-xl/1.0.3/records500/{ptbxl_data_path}.hea\"),\n",
        "        os.path.join(\"ptbxl\")\n",
        "    )\n",
        "\n",
        "    !wget -r -N -c np https://physionet.org/files/ptb-xl/1.0.3/records500/{ptbxl_data_path}.dat -P ptbxl &> /dev/null\n",
        "    shutil.move(\n",
        "        os.path.join(\"ptbxl\", f\"physionet.org/files/ptb-xl/1.0.3/records500/{ptbxl_data_path}.dat\"),\n",
        "        os.path.join(\"ptbxl\")\n",
        "    )\n",
        "    shutil.rmtree(os.path.join(\"ptbxl\", \"physionet.org\"))"
      ]
    },
    {
      "cell_type": "code",
      "execution_count": null,
      "metadata": {
        "colab": {
          "base_uri": "https://localhost:8080/"
        },
        "id": "DQwTtU1-HQH5",
        "outputId": "f0211bfe-f634-46e8-a165-9cebbe9eda29"
      },
      "outputs": [],
      "source": [
        "#@title Setup up the ECG-QA dataset\n",
        "\n",
        "#@markdown 1. Get the ECG-QA dataset from github\n",
        "\n",
        "#@markdown 2. Map each ecg_id with its corresponding PTB-XL ECG path\n",
        "\n",
        "#@markdown 3. Print random sample\n",
        "\n",
        "## get the dataset\n",
        "## map to PTB-XL ECG path\n",
        "ptbxl_path = \"ptbxl\"\n",
        "if not os.path.exists(ptbxl_path):\n",
        "    os.mkdir(ptbxl_path)\n",
        "\n",
        "for fname in glob.iglob(\"ecg-qa/ecgqa/ptbxl/paraphrased/**/*.json\"):\n",
        "    split = fname.split(\"/\")[-2]\n",
        "    basename = os.path.basename(fname)\n",
        "    if not os.path.exists(\"output\"):\n",
        "        os.makedirs(\"output\")\n",
        "\n",
        "    with open(fname, \"r\") as f:\n",
        "        data = json.load(f)\n",
        "\n",
        "    for i, sample in enumerate(data):\n",
        "        sample[\"ecg_path\"] = []\n",
        "        for ecg_id in sample[\"ecg_id\"]:\n",
        "            sample[\"ecg_path\"].append(f\"ptbxl/{ecg_id:05d}_hr\")\n",
        "\n",
        "    if not os.path.exists(os.path.join(\"output\", split)):\n",
        "        os.makedirs(os.path.join(\"output\", split))\n",
        "    with open(os.path.join(\"output\", split, basename), \"w\") as f:\n",
        "        json.dump(data, f, indent=4)\n",
        "\n",
        "with open(\"ecg-qa/output/ptbxl/00000.json\", \"r\") as f:\n",
        "    sample_data = json.load(f)\n",
        "select = random.randint(0, 9999)\n",
        "pprint(sample_data[select], sort_dicts=False)\n",
        "\n",
        "del sample_data"
      ]
    },
    {
      "cell_type": "markdown",
      "metadata": {
        "id": "UxaV_96aJhCZ"
      },
      "source": [
        "# Visualize"
      ]
    },
    {
      "cell_type": "code",
      "execution_count": null,
      "metadata": {
        "colab": {
          "base_uri": "https://localhost:8080/"
        },
        "id": "w-4emRQOKpYG",
        "outputId": "7fd9168e-52db-495c-e9f8-7bcdf6eb6d82"
      },
      "outputs": [],
      "source": [
        "#@markdown\n",
        "split = \"train\" #@param [\"train\", \"valid\", \"test\"]\n",
        "\n",
        "data = []\n",
        "for fname in sorted(glob.glob(os.path.join(\"output\", split, \"*.json\"))):\n",
        "    with open(fname, \"r\") as f:\n",
        "        data.extend(json.load(f))\n",
        "\n",
        "print(f\"loaded {len(data)} {split} samples!\")"
      ]
    },
    {
      "cell_type": "code",
      "execution_count": null,
      "metadata": {
        "colab": {
          "base_uri": "https://localhost:8080/",
          "height": 186
        },
        "id": "0X_kSdJcXbQj",
        "outputId": "bb857f43-b517-4928-b25a-8f2226d2a95a"
      },
      "outputs": [],
      "source": [
        "#@markdown ## Visualize random ECG-QA sample\n",
        "\n",
        "lead = \"II\" #@param [\"I\", \"II\", \"III\", \"aVR\", \"aVL\", \"aVF\", \"V1\", \"V2\", \"V3\", \"V4\", \"V5\", \"V6\"]\n",
        "lead = lead_names.index(lead)\n",
        "sample_id = random.randint(0, len(data) - 1)\n",
        "\n",
        "visualize_sample(data[sample_id], lead)"
      ]
    },
    {
      "cell_type": "code",
      "execution_count": null,
      "metadata": {
        "colab": {
          "base_uri": "https://localhost:8080/",
          "height": 201
        },
        "id": "AM-Vxy9LMnhl",
        "outputId": "873b1166-c2fc-4386-bf94-10d062200a2b"
      },
      "outputs": [],
      "source": [
        "#@markdown ## Visualize a specific ECG-QA sample\n",
        "\n",
        "sample_id = 0 #@param {type: \"integer\"}\n",
        "\n",
        "lead = \"II\" #@param [\"I\", \"II\", \"III\", \"aVR\", \"aVL\", \"aVF\", \"V1\", \"V2\", \"V3\", \"V4\", \"V5\", \"V6\"]\n",
        "lead = lead_names.index(lead)\n",
        "\n",
        "visualize_sample(data[sample_id], lead)"
      ]
    },
    {
      "cell_type": "code",
      "execution_count": null,
      "metadata": {
        "colab": {
          "base_uri": "https://localhost:8080/",
          "height": 1000
        },
        "id": "0IzWfOkritVy",
        "outputId": "08a96310-91bd-4f13-970a-ee263d900969"
      },
      "outputs": [],
      "source": [
        "#@markdown ## Visualize all ECG-QA samples based on a specific ECG ID\n",
        "\n",
        "#@markdown Note that we visualize only the *Single* type questions currently.\n",
        "\n",
        "ecg_id = 3 #@param {type: \"integer\"}\n",
        "\n",
        "lead = \"II\" #@param [\"I\", \"II\", \"III\", \"aVR\", \"aVL\", \"aVF\", \"V1\", \"V2\", \"V3\", \"V4\", \"V5\", \"V6\"]\n",
        "lead = lead_names.index(lead)\n",
        "\n",
        "sample_data = [x for x in data if x[\"ecg_id\"] == [ecg_id]]\n",
        "\n",
        "if len(sample_data) == 0:\n",
        "    print(f\"Cannot find ecg_id == {ecg_id}\")\n",
        "else:\n",
        "    ecg_path = sample_data[0][\"ecg_path\"][0]\n",
        "    if not os.path.exists(ecg_path + \".dat\"):\n",
        "        download_ptbxl(sample_data[0][\"ecg_id\"][0])\n",
        "\n",
        "    ecg, _ = wfdb.rdsamp(ecg_path)\n",
        "\n",
        "    draw_ecgs([ecg.T], lead)\n",
        "\n",
        "    for i, sample in enumerate(sample_data):\n",
        "        print(f\"#{i}\")\n",
        "        print(f\"Sample ID: {sample['sample_id']}\")\n",
        "        print(f\"Template ID: {sample['template_id']}\")\n",
        "        print(f\"Question ID: {sample['question_id']}\")\n",
        "        print(f\"Question: {sample['question']}\")\n",
        "        print(f\"Answer: {sample['answer']}\")\n",
        "        print()"
      ]
    },
    {
      "cell_type": "code",
      "execution_count": null,
      "metadata": {
        "colab": {
          "base_uri": "https://localhost:8080/",
          "height": 205
        },
        "id": "_3fMh_mwXVZ6",
        "outputId": "f52aab5c-0f16-4d34-aaac-074800f24217"
      },
      "outputs": [],
      "source": [
        "#@markdown ## Visualize random ECG-QA sample based on a specific template ID\n",
        "\n",
        "#@markdown template_id should be between 1 and 70\n",
        "template_id = 1 #@param {type: \"integer\"}\n",
        "\n",
        "lead = \"II\" #@param [\"I\", \"II\", \"III\", \"aVR\", \"aVL\", \"aVF\", \"V1\", \"V2\", \"V3\", \"V4\", \"V5\", \"V6\"]\n",
        "lead = lead_names.index(lead)\n",
        "\n",
        "sample_data = [x for x in data if x[\"template_id\"] == template_id]\n",
        "if len(sample_data) == 0:\n",
        "    print(f\"Cannot find template_id == {template_id}\")\n",
        "else:\n",
        "    sample_id = random.randint(0, len(sample_data) - 1)\n",
        "\n",
        "    visualize_sample(sample_data[sample_id], lead)"
      ]
    },
    {
      "cell_type": "code",
      "execution_count": null,
      "metadata": {
        "cellView": "form",
        "colab": {
          "base_uri": "https://localhost:8080/",
          "height": 206
        },
        "id": "h7J6GfpSeX8R",
        "outputId": "f92e6486-cb3c-40e4-c838-d430e5496000"
      },
      "outputs": [],
      "source": [
        "#@markdown ## Visualize random ECG-QA sample based on a specific question ID\n",
        "\n",
        "question_id = 0 #@param {type: \"integer\"}\n",
        "\n",
        "lead = \"II\" #@param [\"I\", \"II\", \"III\", \"aVR\", \"aVL\", \"aVF\", \"V1\", \"V2\", \"V3\", \"V4\", \"V5\", \"V6\"]\n",
        "lead = lead_names.index(lead)\n",
        "\n",
        "sample_data = [x for x in data if x[\"question_id\"] == question_id]\n",
        "if len(sample_data) == 0:\n",
        "    print(f\"Cannot find question_id == {question_id}\")\n",
        "else:\n",
        "    sample_id = random.randint(0, len(sample_data) - 1)\n",
        "\n",
        "    visualize_sample(sample_data[sample_id], lead)"
      ]
    }
  ],
  "metadata": {
    "colab": {
      "provenance": []
    },
    "kernelspec": {
      "display_name": ".venv",
      "language": "python",
      "name": "python3"
    },
    "language_info": {
      "codemirror_mode": {
        "name": "ipython",
        "version": 3
      },
      "file_extension": ".py",
      "mimetype": "text/x-python",
      "name": "python",
      "nbconvert_exporter": "python",
      "pygments_lexer": "ipython3",
      "version": "3.12.4"
    }
  },
  "nbformat": 4,
  "nbformat_minor": 0
}
