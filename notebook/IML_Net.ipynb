{
 "cells": [
  {
   "cell_type": "markdown",
   "metadata": {},
   "source": [
    "# IML NET"
   ]
  },
  {
   "cell_type": "code",
   "execution_count": null,
   "metadata": {},
   "outputs": [],
   "source": [
    "from model import IMLE_net\n",
    "from model.IMLE_net.inference import build_scores, transform_ecg_for_inference\n",
    "import os\n",
    "import numpy as np\n",
    "from data import ptbxl\n",
    "from utils import setCWDToProjectDir\n",
    "from model.IMLE_net.preprocessing.preprocess import preprocess\n",
    "import tensorflow as tf"
   ]
  },
  {
   "cell_type": "code",
   "execution_count": null,
   "metadata": {},
   "outputs": [],
   "source": [
    "# See if GPU is available\n",
    "print(tf.config.list_physical_devices('GPU'))"
   ]
  },
  {
   "cell_type": "code",
   "execution_count": null,
   "metadata": {},
   "outputs": [],
   "source": [
    "setCWDToProjectDir()\n",
    "print(f\"Our current working directory is {os.getcwd()}\")"
   ]
  },
  {
   "cell_type": "markdown",
   "metadata": {},
   "source": [
    "## Author's model and weight"
   ]
  },
  {
   "cell_type": "code",
   "execution_count": null,
   "metadata": {},
   "outputs": [],
   "source": [
    "\n",
    "\n",
    "dataset = ptbxl.PTBXL(sampling_rate=ptbxl.SamplingRate.HZ_100)\n",
    "record = dataset.load_record(1)\n",
    "weight_path = os.path.join(os.getcwd(), 'ckpts', 'imle_net_weights.h5')\n",
    "\n",
    "config = IMLE_net.Config()\n",
    "\n",
    "# Set the configuration parameters for the Author's model (imle_net_weights)\n",
    "config.attention_dim = 32\n",
    "config.lstm_units = 32\n",
    "config.start_filters = 16\n",
    "\n",
    "#Print all config values\n",
    "print(\"Model configuration:\")\n",
    "for key, value in config.__dict__.items():\n",
    "    print(f\"\\t {key}: {value}\")\n",
    "print(\"\")\n",
    "model_author = IMLE_net.build_imle_net(config)\n",
    "model_author.load_weights(weight_path)\n",
    "\n",
    "data = record.data\n",
    "data = np.expand_dims(data, axis=0)\n",
    "data = transform_ecg_for_inference(data)\n",
    "print(\"Data shape after transformation:\", data.shape)\n",
    "build_scores(model_author, data, config)\n",
    "\n",
    "\n",
    "\n"
   ]
  },
  {
   "cell_type": "markdown",
   "metadata": {},
   "source": [
    "## Community model and weight"
   ]
  },
  {
   "cell_type": "code",
   "execution_count": null,
   "metadata": {},
   "outputs": [],
   "source": [
    "\n",
    "\n",
    "dataset = ptbxl.PTBXL(sampling_rate=ptbxl.SamplingRate.HZ_100)\n",
    "record = dataset.load_record(1)\n",
    "weight_path = os.path.join(os.getcwd(), 'ckpts', 'imle_net_community_weights.h5')\n",
    "\n",
    "config = IMLE_net.Config()\n",
    "\n",
    "#Print all config values\n",
    "print(\"Model configuration:\")\n",
    "for key, value in config.__dict__.items():\n",
    "    print(f\"\\t {key}: {value}\")\n",
    "print(\"\")\n",
    "model = IMLE_net.build_imle_net(config)\n",
    "model.load_weights(weight_path)\n",
    "\n",
    "data = record.data\n",
    "data = np.expand_dims(data, axis=0)\n",
    "data = transform_ecg_for_inference(data)\n",
    "print(\"Data shape after transformation:\", data.shape)\n",
    "build_scores(model, data, config)\n",
    "\n",
    "\n",
    "\n"
   ]
  },
  {
   "cell_type": "code",
   "execution_count": null,
   "metadata": {},
   "outputs": [],
   "source": [
    "predictions = model_author.predict(data)\n",
    "print(\"Predictions shape: \", predictions.shape)\n",
    "# Print predicted class\n",
    "predicted_class = np.argmax(predictions, axis=1)\n",
    "print(\"Prediction: \", predicted_class[0])\n",
    "\n",
    "#print probabilities\n",
    "print(\"Probabilities: \", predictions[0])\n"
   ]
  },
  {
   "cell_type": "code",
   "execution_count": null,
   "metadata": {},
   "outputs": [],
   "source": [
    "preprocessed_file_path = f\"preprocessed_data/ptbxl_{dataset.sampling_rate}.npz\"\n",
    "\n",
    "if not os.path.exists(preprocessed_file_path):\n",
    "  X, y, data, classes = dataset.load_all()\n",
    "  \n",
    "  #Print classes\n",
    "  print(\"Classes: \", classes)\n",
    "\n",
    "  #preprocess\n",
    "  X_train_scale, y_train, X_test_scale, y_test, X_val_scale, y_val = preprocess(X, y, data)\n",
    "\n",
    "  print(\"X_train_scale shape: \", X_train_scale.shape)\n",
    "  print(\"y_train shape: \", y_train.shape)\n",
    "  print(\"X_test_scale shape: \", X_test_scale.shape)\n",
    "  print(\"y_test shape: \", y_test.shape)\n",
    "  print(\"X_val_scale shape: \", X_val_scale.shape)\n",
    "  print(\"y_val shape: \", y_val.shape)\n",
    "\n",
    "  # Save the preprocessed data\n",
    "  \n",
    "  # Create the directory if it doesn't exist\n",
    "  os.makedirs(os.path.dirname(preprocessed_file_path), exist_ok=True)\n",
    "\n",
    "  # Save the preprocessed data to a compressed .npz file\n",
    "  np.savez_compressed(preprocessed_file_path, X_train_scale=X_train_scale, y_train=y_train, \\\n",
    "              X_test_scale=X_test_scale, y_test=y_test, X_val_scale=X_val_scale, y_val=y_val,\\\n",
    "              classes=classes)\n",
    "else:\n",
    "  print(f\"Preprocessed data already exists at {preprocessed_file_path}. Loading it...\")\n",
    "\n",
    "# Load the preprocessed data\n",
    "data = np.load(preprocessed_file_path, allow_pickle=True)\n",
    "X_train_scale = data['X_train_scale']\n",
    "y_train = data['y_train']\n",
    "X_test_scale = data['X_test_scale']\n",
    "y_test = data['y_test']\n",
    "X_val_scale = data['X_val_scale']\n",
    "y_val = data['y_val']\n",
    "\n",
    "classes = data['classes']\n",
    "print(\"Loaded classes: \", classes)"
   ]
  },
  {
   "cell_type": "code",
   "execution_count": null,
   "metadata": {},
   "outputs": [],
   "source": [
    "X_test = transform_ecg_for_inference(X_test_scale, scaler_path=None)\n",
    "community_predictions = model.predict(X_test)\n",
    "author_predictions = model_author.predict(X_test)"
   ]
  },
  {
   "cell_type": "code",
   "execution_count": null,
   "metadata": {},
   "outputs": [],
   "source": [
    "from utils.display import display_confusion_matrix\n",
    "from utils.evaluation import evaluate_classification\n",
    "\n",
    "print(\"Shape of community predictions: \", community_predictions.shape)\n",
    "\n",
    "evaluate_classification(community_predictions, X_test, y_test, classes)"
   ]
  },
  {
   "cell_type": "markdown",
   "metadata": {},
   "source": []
  },
  {
   "cell_type": "code",
   "execution_count": null,
   "metadata": {},
   "outputs": [],
   "source": [
    "evaluate_classification(author_predictions, X_test, y_test)"
   ]
  },
  {
   "cell_type": "code",
   "execution_count": null,
   "metadata": {},
   "outputs": [],
   "source": [
    "dataset = ptbxl.PTBXL(sampling_rate=ptbxl.SamplingRate.HZ_100)\n",
    "X, y, data, classes = dataset.load_all()\n",
    "X_test = transform_ecg_for_inference(X)\n",
    "author_predictions = model_author.predict(X_test)\n",
    "community_predictions = model.predict(X_test)\n",
    "print(\"Shape of community predictions: \", community_predictions.shape)\n",
    "evaluate_classification(community_predictions, X_test, y, classes=classes)\n",
    "evaluate_classification(author_predictions, X_test, y, classes=classes)"
   ]
  }
 ],
 "metadata": {
  "kernelspec": {
   "display_name": ".venv",
   "language": "python",
   "name": "python3"
  },
  "language_info": {
   "codemirror_mode": {
    "name": "ipython",
    "version": 3
   },
   "file_extension": ".py",
   "mimetype": "text/x-python",
   "name": "python",
   "nbconvert_exporter": "python",
   "pygments_lexer": "ipython3",
   "version": "3.10.11"
  }
 },
 "nbformat": 4,
 "nbformat_minor": 2
}
